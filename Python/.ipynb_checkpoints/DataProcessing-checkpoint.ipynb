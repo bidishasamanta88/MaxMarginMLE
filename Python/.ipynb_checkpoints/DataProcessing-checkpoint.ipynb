{
 "cells": [
  {
   "cell_type": "code",
   "execution_count": 20,
   "metadata": {
    "collapsed": false
   },
   "outputs": [],
   "source": [
    "import sqlite3\n",
    "from collections import defaultdict\n",
    "import matplotlib.pyplot as plt\n",
    "import matplotlib.cm as cm\n",
    "import numpy as np\n",
    "import ast\n",
    "import operator\n",
    "from __future__ import unicode_literals\n",
    "import sys\n",
    "reload(sys)  \n",
    "sys.setdefaultencoding('utf8')\n",
    "%matplotlib inline\n",
    "\n",
    "# -*- coding: ascii -*-"
   ]
  },
  {
   "cell_type": "code",
   "execution_count": 21,
   "metadata": {
    "collapsed": true
   },
   "outputs": [],
   "source": [
    "print \"Hello\""
   ]
  },
  {
   "cell_type": "code",
   "execution_count": 4,
   "metadata": {
    "collapsed": true
   },
   "outputs": [],
   "source": [
    "def setupconnection():\n",
    "    conn = sqlite3.connect(\"/home/bidisha/Data2017Hashtag/dataKDD/random_sample_processed.db\")\n",
    "    return conn"
   ]
  },
  {
   "cell_type": "code",
   "execution_count": 5,
   "metadata": {
    "collapsed": true
   },
   "outputs": [],
   "source": [
    "def getuniquehashtag(c):\n",
    "    results = c.execute(\"Select distinct(Hashtag) from hashtagUsageInfo\")\n",
    "    hashtagName = [row[0] for row in results]\n",
    "    return hashtagName"
   ]
  },
  {
   "cell_type": "code",
   "execution_count": 8,
   "metadata": {
    "collapsed": false
   },
   "outputs": [],
   "source": [
    "def relativetimestamp(hashtags, c):\n",
    "    dicthashtag = defaultdict(list)\n",
    "    mintimestamp = [row[0] for row in c.execute('Select min(UnixTimeStamp) from hashtagUsageInfo')]\n",
    "    mintimestamp = mintimestamp[0]\n",
    "    for hashtag in hashtags:\n",
    "        timestamps = [row[0] for row in c.execute('Select UnixTimeStamp from hashtagUsageInfo where Hashtag=\\\\\n",
    "        '+'\\\"'+hashtag+'\\\"'+'order by UnixTimeStamp')]\n",
    "        relativetimestamps = [(x - mintimestamp) for x in timestamps]\n",
    "        tempstr=','.join(str(x) for x in relativetimestamps)\n",
    "        dicthashtag[hashtag] = relativetimestamps\n",
    "    return dicthashtag"
   ]
  },
  {
   "cell_type": "code",
   "execution_count": 10,
   "metadata": {
    "collapsed": false
   },
   "outputs": [],
   "source": [
    "def timestamp(hashtags, c):\n",
    "    dicthashtag = defaultdict(list)\n",
    "    for hashtag in hashtags:\n",
    "        timestamps = [row[0] for row in c.execute('Select UnixTimeStamp from hashtagUsageInfo where Hashtag=\\\\\n",
    "    '+'\\\"'+hashtag+'\\\"'+'order by UnixTimeStamp')]\n",
    "        relativetimestamps = [(x - timestamps[0]) for x in timestamps]\n",
    "        tempstr=','.join(str(x) for x in relativetimestamps)\n",
    "        dicthashtag[hashtag] = relativetimestamps\n",
    "    return dicthashtag"
   ]
  },
  {
   "cell_type": "code",
   "execution_count": 11,
   "metadata": {
    "collapsed": false
   },
   "outputs": [],
   "source": [
    "def plotData(data, start, end):\n",
    "    count = 0\n",
    "    bins = np.linspace(start, end, 100)\n",
    "    colors = cm.rainbow(np.linspace(0, 1, len(data.keys())))\n",
    "    #print colors\n",
    "    #colors = ['r', 'b', 'g', 'w', 'y', 'o', ''\n",
    "    moddata=defaultdict(list)\n",
    "    for k in data.keys():\n",
    "        timestamp=data[k]\n",
    "        for time in timestamp:\n",
    "            if time>=start and time<=end :\n",
    "                moddata.setdefault(k,[]).append(time)\n",
    "    \n",
    "    for (c,k) in zip(colors, data):\n",
    "        #print k\n",
    "        #k = unicode(k, \"utf-8\")\n",
    "        count+=1\n",
    "        plt.hist(moddata[k], bins, label = k, histtype='step', color = c)\n",
    "    plt.legend(loc='upper right', prop={'size':10})\n",
    "    plt.xlabel('Tweeted time', fontsize=18)\n",
    "    plt.ylabel('Tweet volume', fontsize=18)\n",
    "    plt.show()"
   ]
  },
  {
   "cell_type": "code",
   "execution_count": 12,
   "metadata": {
    "collapsed": true
   },
   "outputs": [],
   "source": [
    "def generateDataFromFile(filename):\n",
    "    f = open(filename)\n",
    "    dicthashtag = defaultdict(list)\n",
    "    for line in f:\n",
    "        tokens = line.strip().split(\"\\t\")\n",
    "        hashtag = tokens[0]\n",
    "        timestamp = ast.literal_eval(tokens[1])\n",
    "        dicthashtag[hashtag] = timestamp\n",
    "    return dicthashtag"
   ]
  },
  {
   "cell_type": "code",
   "execution_count": 13,
   "metadata": {
    "collapsed": true
   },
   "outputs": [],
   "source": [
    "def topKHahstag(dicthashtag, starttime, endtime, k):\n",
    "    popularity_count = defaultdict(int)\n",
    "    for key in dicthashtag.keys():\n",
    "        timestamplist = dicthashtag[key]\n",
    "        #print key,timestamplist\n",
    "        for ts in timestamplist:\n",
    "            if(ts>=starttime and ts<=endtime):\n",
    "                popularity_count.setdefault(k, 0)\n",
    "                popularity_count[key]+=1\n",
    "    #print popularity_count\n",
    "    sortedpc = sorted(popularity_count.items(), key=operator.itemgetter(1), reverse=True)\n",
    "    #sortedpc = sorted(popularity_count, key=popularity_count.get, reverse=True)\n",
    "    #print sortedpc\n",
    "    topk = [row[0] for row in sortedpc[:k]]\n",
    "    print topk\n",
    "    resultDict = defaultdict(int)\n",
    "    for tk in topk:\n",
    "        #print defaultdict[tk]\n",
    "        resultDict[tk] = dicthashtag[tk]\n",
    "    return resultDict"
   ]
  },
  {
   "cell_type": "code",
   "execution_count": 93,
   "metadata": {
    "collapsed": false
   },
   "outputs": [],
   "source": [
    "#mintimestamp = 1374696959;"
   ]
  },
  {
   "cell_type": "code",
   "execution_count": 15,
   "metadata": {
    "collapsed": false
   },
   "outputs": [],
   "source": [
    "#topK = topKHahstag(dicthashtag.keys()[0], 0, 864000, 10)\n",
    "#dicthashtag = generateDataFromFile(\"HashtagTimeStamp.txt\")\n",
    "conn = setupconnection()\n",
    "c = conn.cursor()\n",
    "mintimestamp = [row[0] for row in c.execute('Select max(UnixTimeStamp) from hashtagUsageInfo')]\n",
    "mintimestamp = mintimestamp[0]\n",
    "conn.close()\n",
    "print \"hello\"\n",
    "print mintimestamp"
   ]
  },
  {
   "cell_type": "code",
   "execution_count": null,
   "metadata": {
    "collapsed": true
   },
   "outputs": [],
   "source": [
    "if __name__ == \"__main__\":\n",
    "    conn = setupconnection()\n",
    "    c = conn.cursor()\n",
    "    hashtagList = getuniquehashtag(c)\n",
    "    f = open(\"TempName.txt\",\"a\")\n",
    "    for hashtag in hashtagList:\n",
    "        f.write(hashtag+\"\\n\")\n",
    "    f.close()\n",
    "    conn.close()\n",
    "    \n",
    "    "
   ]
  },
  {
   "cell_type": "code",
   "execution_count": 2,
   "metadata": {
    "collapsed": false,
    "scrolled": true
   },
   "outputs": [],
   "source": [
    "#topK = topKHahstag(dicthashtag, 60000, 518400, 10)\n",
    "#print topK\n",
    "#plotData(topK, 0, 60000)\n",
    "#plotData(topK, 60000, 180000)"
   ]
  }
 ],
 "metadata": {
  "kernelspec": {
   "display_name": "Python 2",
   "language": "python",
   "name": "python2"
  },
  "language_info": {
   "codemirror_mode": {
    "name": "ipython",
    "version": 2
   },
   "file_extension": ".py",
   "mimetype": "text/x-python",
   "name": "python",
   "nbconvert_exporter": "python",
   "pygments_lexer": "ipython2",
   "version": "2.7.12"
  }
 },
 "nbformat": 4,
 "nbformat_minor": 0
}
