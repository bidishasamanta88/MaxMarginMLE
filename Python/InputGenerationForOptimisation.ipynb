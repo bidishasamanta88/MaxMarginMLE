{
 "cells": [
  {
   "cell_type": "code",
   "execution_count": 1,
   "metadata": {
    "collapsed": false
   },
   "outputs": [
    {
     "name": "stderr",
     "output_type": "stream",
     "text": [
      "/usr/lib/python2.7/dist-packages/matplotlib/font_manager.py:273: UserWarning: Matplotlib is building the font cache using fc-list. This may take a moment.\n",
      "  warnings.warn('Matplotlib is building the font cache using fc-list. This may take a moment.')\n"
     ]
    }
   ],
   "source": [
    "import sys\n",
    "import pandas as pd\n",
    "import numpy as np\n",
    "import seaborn as sns\n",
    "import networkx as nx\n",
    "import matplotlib.pyplot as plt\n",
    "import operator\n",
    "import time\n",
    "import ast\n",
    "import math\n",
    "import subprocess\n",
    "from collections import defaultdict\n",
    "from scipy.optimize import curve_fit\n",
    "from srm.db_manager import connect_to_db, execute_sql\n",
    "#from Utility.dataProcessing import *\n",
    "import powerlaw"
   ]
  },
  {
   "cell_type": "code",
   "execution_count": 2,
   "metadata": {
    "collapsed": true
   },
   "outputs": [],
   "source": [
    "db_name, table = \"bidisha\", \"icct20\"\n",
    "cursor_mysql, conn = connect_to_db(\"localhost\", \"root\", \"root\")"
   ]
  },
  {
   "cell_type": "code",
   "execution_count": 184,
   "metadata": {
    "collapsed": true
   },
   "outputs": [],
   "source": [
    "def generatehtFromFile(filename):\n",
    "    f = open(filename)\n",
    "    hashtaglist = []\n",
    "    for line in f:\n",
    "        hashtaglist.append(line.split(\"\\t\")[0].strip())\n",
    "    return hashtaglist"
   ]
  },
  {
   "cell_type": "code",
   "execution_count": 185,
   "metadata": {
    "collapsed": true
   },
   "outputs": [],
   "source": [
    "def timestamp(hashtags):\n",
    "    dicthashtag = defaultdict(list)\n",
    "    maxts = 0\n",
    "    mints = sys.maxint\n",
    "    for hashtag in hashtags:\n",
    "        hashtag = hashtag.strip()\n",
    "        hashtagMod1 = '\\\"%'+hashtag.strip()+',%\\\"'\n",
    "        hashtagMod2 = '\\\"%,'+hashtag.strip()+'%\\\"'\n",
    "        hashtagMod3 = '\\\"'+hashtag.strip()+'\\\"'\n",
    "        timestamps = [row[0] for row in execute_sql(\"Select created_at from %s.%s where\\\n",
    "        (hashTags like %s OR hashTags like %s OR hashTags like %s) \\\n",
    "        order by created_at;\", (db_name, table, hashtagMod1, hashtagMod2, hashtagMod3))]\n",
    "        inttimestamps = [int(time.mktime(x.timetuple())) for x in timestamps]\n",
    "        tempstr=','.join(str(x) for x in inttimestamps)\n",
    "        if(inttimestamps[0] < mints):\n",
    "            mints = inttimestamps[0]\n",
    "        if(inttimestamps[-1] > maxts):\n",
    "            maxts = inttimestamps[-1]\n",
    "        dicthashtag[hashtag] = inttimestamps\n",
    "    return (dicthashtag, maxts, mints)"
   ]
  },
  {
   "cell_type": "code",
   "execution_count": 186,
   "metadata": {
    "collapsed": false
   },
   "outputs": [],
   "source": [
    "def generatechainlist(hashtaglist, klistfile):\n",
    "    for hashtag in hashtaglist:\n",
    "        hashtag = hashtag.strip()\n",
    "        f = open(klistfile+hashtag+\".txt\",'a')\n",
    "        hashtagMod1 = '\\\"%'+hashtag.strip()+',%\\\"'\n",
    "        hashtagMod2 = '\\\"%,'+hashtag.strip()+'%\\\"'\n",
    "        hashtagMod3 = '\\\"'+hashtag.strip()+'\\\"'\n",
    "        pidlist = [row[0] for row in execute_sql(\"Select distinct(parent_id_str) FROM %s.%s where\\\n",
    "        (hashTags like %s OR hashTags like %s OR hashTags like %s) and (parent_id_str is not NULL)\\\n",
    "        ;\",(db_name, table, hashtagMod1, hashtagMod2, hashtagMod3))]\n",
    "        for pid in pidlist:\n",
    "            tweetchain = [int(time.mktime(row[0].timetuple())) for row in execute_sql(\"Select created_at \\\n",
    "            FROM %s.%s where (hashTags like %s OR hashTags like %s OR hashTags like %s) and (parent_id_str=%s)\\\n",
    "            order by created_at;\",(db_name, table, hashtagMod1, hashtagMod2, hashtagMod3,pid))]\n",
    "            f.write(pid+\"\\t[\"+\",\".join([str(x) for x in tweetchain])+\"]\\n\")             \n",
    "        f.close()"
   ]
  },
  {
   "cell_type": "code",
   "execution_count": 234,
   "metadata": {
    "collapsed": false
   },
   "outputs": [],
   "source": [
    "def createbucketlist(dictHashtag, mints, maxts, noofbuckets):\n",
    "    bucketsize = (maxts - mints) / noofbuckets\n",
    "    bucketlist = defaultdict(list)\n",
    "    \n",
    "    for hashtag in dictHashtag.keys():\n",
    "        hashtag = hashtag.strip()\n",
    "        timeseries = dictHashtag[hashtag]\n",
    "        #print hashtag, timeseries[0], timeseries[-1]\n",
    "        for i in range(0,noofbuckets):\n",
    "            start = mints + i * bucketsize\n",
    "            end = mints + (i+1) * bucketsize\n",
    "            #print start, end\n",
    "            #if(timeseries[0] > end or timeseries[-1]< start):\n",
    "            count = 0\n",
    "            index = start + 0.8 * bucketsize\n",
    "            for t in timeseries:\n",
    "                if (t >= start and t <=index) :\n",
    "                    count += 1        \n",
    "            bucketlist[i].append((hashtag,count))\n",
    "    \n",
    "    for i in range(0,noofbuckets):\n",
    "        hl = bucketlist[i]\n",
    "        shl = [row[0] for row in sorted(hl, key=lambda tup: tup[1], reverse=True)][:5]\n",
    "        bucketlist[i] = shl\n",
    "    #print shl\n",
    "    print bucketlist\n",
    "    return bucketlist"
   ]
  },
  {
   "cell_type": "code",
   "execution_count": 224,
   "metadata": {
    "collapsed": true
   },
   "outputs": [],
   "source": [
    "def getKarray(klistfile, hashtag, start, end, train, bincount):\n",
    "    f = open(klistfile+hashtag+\".txt\")\n",
    "    finalcount = 0\n",
    "    #print hashtag\n",
    "    minchain =  sys.maxint\n",
    "    maxchain = 1\n",
    "    chaindict = defaultdict(int)\n",
    "    c = 0\n",
    "    reversetimedict = defaultdict(int)\n",
    "    for line in f:\n",
    "        timestamplist = ast.literal_eval(line.split(\"\\t\")[1])\n",
    "        #print timestamplist\n",
    "        count = 1\n",
    "        c = c+1\n",
    "        for ts in timestamplist:\n",
    "            reversetimedict[ts-start] = c\n",
    "            #if (ts >= start and ts <= end):\n",
    "                #continue\n",
    "            #    print \"insde\"\n",
    "            count = count + 1\n",
    "        if maxchain < count:\n",
    "            maxchain = count\n",
    "        if minchain > count:\n",
    "            minchain = count\n",
    "        finalcount += count\n",
    "        chaindict[c] = count\n",
    "        #print c, count\n",
    "    karray = []\n",
    "    #print \"train\", train\n",
    "    for ts in train:\n",
    "        if ts in reversetimedict.keys():\n",
    "            karray.append(chaindict[reversetimedict[ts]])\n",
    "        else:\n",
    "            karray.append(1)\n",
    "    #print minchain, maxchain\n",
    "    #print karray\n",
    "    bins = np.linspace(minchain, maxchain, bincount)\n",
    "    karray_mod = np.array(np.digitize(karray,bins))\n",
    "    #print karray_mod\n",
    "    results = powerlaw.Fit(karray_mod)\n",
    "    print results.power_law.alpha\n",
    "    return (karray,results.power_law.alpha)    "
   ]
  },
  {
   "cell_type": "code",
   "execution_count": 232,
   "metadata": {
    "collapsed": true
   },
   "outputs": [],
   "source": [
    "def getrelativerank(hashtagList, start, end, dictHashtag, rankfilename):\n",
    "    continuation = (end - start)/4\n",
    "    #ranklist = defaultdict(list)\n",
    "    counthash = defaultdict(int)\n",
    "    s = start\n",
    "    f = open(rankfilename, \"a\")\n",
    "    for i in range(0,4):\n",
    "        e = s + continuation\n",
    "        for hashtag in hashtagList:\n",
    "            hashtag = hashtag.strip()\n",
    "            ts = dictHashtag[hashtag]\n",
    "            count = 0\n",
    "            for t in ts:\n",
    "                if (t >= start and t<=e):\n",
    "                    count = count + 1\n",
    "            counthash[hashtag] = count\n",
    "        sorted_h = [hashtagList.index(key) for (key, value) in sorted(counthash.items(),key=operator.itemgetter(1),reverse=True)]\n",
    "        f.write(str(s - start) + \"\\t\"+ str(e-start)+\"\\t\"+\"\\t\".join([str(x) for x in sorted_h])+\"\\n\")\n",
    "        s = s + continuation\n",
    "        #print i\n",
    "    f.close()\n",
    "        #ranklist[i] = sorted_h\n",
    "#return ranklist"
   ]
  },
  {
   "cell_type": "code",
   "execution_count": 228,
   "metadata": {
    "collapsed": false
   },
   "outputs": [],
   "source": [
    "def createInput(dictHashtag,mints, maxts, noofbuckets, klistfile, outputfile):\n",
    "    bucketsize = (maxts - mints) / noofbuckets\n",
    "    bucketlist = createbucketlist(dictHashtag, mints, maxts, noofbuckets)\n",
    "    #print bucketlist\n",
    "    for i in range(0, noofbuckets):\n",
    "        hashtaglist = bucketlist[i]\n",
    "        start = mints + i * bucketsize\n",
    "        end = mints + bucketsize + i * bucketsize\n",
    "        index = start + 0.8 * bucketsize\n",
    "        fw = open(outputfile+str(i)+\"name.txt\", \"a\")\n",
    "        fw.write(\",\".join(hashtaglist))\n",
    "        fw.close()\n",
    "        f = open(outputfile+str(i)+\".txt\", \"a\")\n",
    "        #print \"start\", start, end, hashtaglist\n",
    "        \n",
    "        for hashtag in hashtaglist:\n",
    "            #print \"hello\"\n",
    "            hashtag = hashtag.strip()\n",
    "            #print hashtag\n",
    "            timeseries = dictHashtag[hashtag]\n",
    "            #relative = [(x - mints) for x in timeseries]\n",
    "            train = [x for x in timeseries if (x <=index and x>=start and x <= end)]\n",
    "            test = [x for x in timeseries if  (x > index and x>=start and x<=end)]\n",
    "            train = [(x-start) for x in train]\n",
    "            test = [(x-start) for x in test]\n",
    "            (karray,alpha) = getKarray(klistfile,hashtag,start, end, train, 10000)\n",
    "            #print \"hello2\"\n",
    "            print \"train\", train\n",
    "            #print \"test\", test\n",
    "            #karray\n",
    "            f.write(\",\".join([str(x) for x in karray])+\"\\n\")\n",
    "            #arrival\n",
    "            f.write(\",\".join([str(x) for x in train])+\"\\n\")\n",
    "            #omega\n",
    "            f.write(\"0.01\"+\"\\n\")\n",
    "            #omega_0\n",
    "            f.write(\"0.01\"+\"\\n\")\n",
    "            #alpha\n",
    "            f.write(str(alpha)+\"\\n\")\n",
    "            #initial parameters\n",
    "            f.write(\"0.01,0.01\"+\"\\n\")\n",
    "            #test set\n",
    "            f.write(\",\".join(str(x) for x in test)+\"\\n\")\n",
    "        f.close()\n",
    "        #break\n",
    "        getrelativerank(hashtaglist,start, end, dictHashtag, outfile+\"rank\"+str(i)+\".txt\")"
   ]
  },
  {
   "cell_type": "code",
   "execution_count": 41,
   "metadata": {
    "collapsed": false
   },
   "outputs": [
    {
     "name": "stdout",
     "output_type": "stream",
     "text": [
      "['ICC_T20', 'IndvNZ', 'IndvsPak', 'PakvBaN', 'T20WORLDCUP', 'T20world', 'WorldT20', 'WorldT20Heroes', 'aus', 'cricket', 'iccwt20', 'india', 'indvpak', 'indvspa', 'pakistan', 'worldcup']\n"
     ]
    }
   ],
   "source": [
    "#main block\n",
    "#name of the file with hashtaglist\n",
    "filename = \"/home/bidisha/2017-hashtag-code/Data/hashtags/candidateHashtag.txt\"\n",
    "#directory name for the chain files\n",
    "klistfile = \"/home/bidisha/2017-hashtag-code/Data/hashtags/chain/\"\n",
    "hashtaglist = generatehtFromFile(filename)\n",
    "print hashtaglist"
   ]
  },
  {
   "cell_type": "code",
   "execution_count": 64,
   "metadata": {
    "collapsed": false
   },
   "outputs": [],
   "source": [
    "generatechainlist(hashtaglist, klistfile)"
   ]
  },
  {
   "cell_type": "code",
   "execution_count": 236,
   "metadata": {
    "collapsed": false,
    "scrolled": true
   },
   "outputs": [
    {
     "name": "stdout",
     "output_type": "stream",
     "text": [
      "1457196848 1458402525\n",
      "defaultdict(<type 'list'>, {0: ['PakvBaN', 'T20WORLDCUP', 'cricket', 'worldcup', 'ICC_T20']})\n",
      "1.55379818817\n",
      "train [116229, 367236, 729500, 846492, 848095, 848124, 859627, 859635, 859841, 860047, 861309, 876014, 876517, 877762, 881558, 882574, 886798, 887506, 887508, 887510, 887615, 888839, 890477, 891056, 891124, 891654, 891759, 891933, 893110, 893699, 894594, 895292, 896114, 896204, 896946, 897480, 898885, 898896, 899435, 900910, 900965, 902451, 902480, 902756, 902770, 902937, 902988, 903010, 903133, 903141, 903161, 903181, 903269, 903333, 903357, 903511, 903883, 903966, 904044, 904109, 904349, 904431, 904447, 904513, 904526, 904556, 904643, 904713, 904907, 904961, 904986, 905160, 905174, 905201, 905210, 905652, 905852, 905973, 906015, 906167, 906288, 906313, 906319, 906326, 906368, 906600, 906670, 906715, 906811, 906821, 906848, 906874, 906897, 906900, 907017, 907027, 907032, 907062, 907112, 907327, 907386, 907423, 907572, 907600, 907736, 907765, 907832, 907854, 907875, 907876, 907899, 907949, 907975, 907978, 908033, 908044, 908067, 908070, 908080, 908096, 908174, 908226, 908298, 908377, 908389, 908410, 908413, 908413, 908413, 908413, 908435, 908449, 908522, 908671, 908752, 908836, 908851, 908878, 908926, 908970, 909012, 909024, 909052, 909086, 909154, 909162, 909201, 909263, 909305, 909338, 909343, 909348, 909359, 909452, 909490, 909492, 909507, 909527, 909563, 909612, 909834, 909897, 909930, 909936, 909961, 910011, 910043, 910058, 910080, 910102, 910106, 910211, 910214, 910233, 910234, 910325, 910344, 910349, 910371, 910376, 910384, 910389, 910413, 910534, 910545, 910564, 910592, 910595, 910598, 910657, 910709, 910730, 910767, 910796, 910801, 910804, 910860, 910886, 910895, 910909, 910913, 910920, 910924, 910964, 910967, 910986, 911002, 911056, 911066, 911066, 911090, 911094, 911104, 911112, 911116, 911169, 911191, 911197, 911231, 911311, 911326, 911336, 911338, 911433, 911474, 911474, 911475, 911481, 911503, 911521, 911521, 911534, 911716, 911729, 911782, 911814, 911816, 911817, 911929, 912023, 912067, 912256, 912343, 912381, 912587, 912588, 912612, 912647, 912749, 912768, 912797, 912818, 912941, 912945, 913029, 913112, 913148, 913304, 913355, 913356, 913362, 913373, 913389, 913425, 913456, 913487, 913584, 913592, 913592, 913717, 913795, 913827, 913872, 913995, 914010, 914099, 914156, 914171, 914204, 914229, 914261, 914279, 914338, 914349, 914508, 914512, 914514, 914539, 914545, 914550, 914649, 914649, 914771, 914784, 914848, 914885, 915047, 915058, 915135, 915146, 915306, 915343, 915371, 915386, 915439, 915471, 915490, 915538, 915625, 915749, 916042, 916091, 916132, 916185, 916216, 916345, 916370, 916519, 916527, 916712, 916929, 916934, 916946, 916974, 917060, 917230, 917237, 917256, 917264, 917281, 917299, 917326, 917402, 917436, 917444, 917448, 917464, 917481, 917496, 917504, 917557, 917560, 917575, 917579, 917597, 917650, 917668, 917670, 917721, 917767, 917785, 917800, 917809, 917828, 917849, 917854, 917935, 917972, 918074, 918130, 918154, 918177, 918212, 918215, 918299, 918387, 918442, 918595, 918679, 918730, 918759, 918772, 918829, 919097, 919148, 919148, 919148, 919149, 919159, 919229, 919270, 919335, 919339, 919370, 919385, 919386, 919493, 919614, 919718, 919928, 920114, 920416, 920578, 920595, 920688, 921163, 921742, 922575, 923016, 923574, 924166, 924444, 924535, 924572, 925081, 925282, 925440, 925450, 925956, 926327, 926342, 926403, 926709, 926719, 926750, 927138, 927327, 927451, 927511, 928283, 928858, 929518, 930038, 931326, 933125, 933719, 935189, 936358, 941348, 942226, 962233]\n",
      "1.77139131058\n",
      "train [38990, 67756, 71213, 71679, 73291, 80904, 99764, 103390, 109411, 117899, 119489, 125037, 126623, 128377, 132915, 134306, 141423, 148539, 158406, 159321, 169552, 169656, 175006, 205521, 216932, 217395, 218400, 218505, 218519, 220465, 221755, 221928, 222046, 223625, 224780, 228276, 228876, 229900, 232629, 238477, 238866, 239612, 242049, 242797, 243598, 244941, 260347, 263045, 263047, 270236, 278432, 280851, 286280, 286745, 295430, 296404, 301763, 303893, 304828, 305774, 306384, 306835, 307672, 307679, 309813, 310211, 311716, 311791, 311791, 311791, 311825, 313584, 313971, 314215, 314249, 314939, 315922, 320980, 321608, 321612, 326230, 327495, 328041, 328380, 328494, 329140, 330566, 333073, 333808, 334084, 334097, 334355, 334611, 334711, 335402, 335440, 335710, 338981, 345158, 347324, 352205, 355198, 363348, 371168, 376345, 379612, 379987, 382770, 384828, 385500, 386021, 386568, 388610, 392219, 392710, 393788, 394397, 395488, 395852, 397643, 405484, 406404, 406404, 409147, 414550, 416277, 420017, 425407, 427710, 433944, 435245, 450376, 450777, 453054, 457502, 459693, 464702, 465162, 465237, 466076, 466824, 467938, 469241, 469420, 474058, 474113, 476456, 481857, 482112, 484825, 485097, 485283, 486177, 486270, 486720, 487216, 489515, 490002, 490019, 490197, 490233, 491326, 493379, 493532, 493734, 495724, 496418, 496507, 500531, 501609, 502087, 502353, 502826, 504468, 504974, 506050, 506118, 506478, 506658, 507663, 511613, 513314, 527970, 535981, 536415, 542569, 547190, 554611, 556988, 564753, 564822, 568539, 568913, 569042, 570027, 570450, 570549, 571641, 571721, 575941, 576825, 577690, 578505, 582584, 583881, 584190, 586124, 587070, 587216, 587417, 588316, 589723, 591099, 592874, 598301, 626415, 631255, 632557, 636599, 636644, 638319, 648830, 657519, 660666, 663457, 670400, 674020, 678549, 679064, 681975, 685192, 700404, 706435, 713487, 722525, 736618, 738798, 739470, 741971, 742893, 743963, 757006, 761253, 763769, 764903, 768671, 770070, 811165, 815741, 818621, 819249, 821080, 821240, 822942, 823141, 823407, 824083, 826537, 831874, 832311, 832395, 833785, 834404, 834717, 834747, 834909, 835189, 835362, 835377, 835776, 835900, 835912, 836051, 836795, 837938, 838108, 838821, 839348, 840628, 840792, 840798, 841295, 841404, 841455, 841461, 841596, 842120, 842208, 843038, 843077, 843299, 843380, 843445, 843450, 843475, 843538, 843603, 843675, 843773, 844043, 844671, 844808, 845093, 845387, 845387, 845523, 845558, 845684, 845688, 845691, 845965, 846035, 846229, 847370, 848225, 849609, 850270, 850965, 851740, 851978, 854404, 857435, 865799, 878357, 878442, 879580, 892332, 893437, 893774, 895697, 896868, 899655, 903333, 903966, 904044, 906939, 907339, 907875, 908713, 908836, 909119, 909902, 910120, 910148, 910695, 910796, 910846, 910872, 910909, 910964, 911474, 911831, 911850, 911969, 912381, 912421, 913487, 914010, 914117, 914771, 914848, 914886, 915490, 916031, 917464, 917722, 917854, 918074, 918299, 918451, 919496, 920340, 920483, 921309, 923099, 923826, 924383, 925006, 925776, 927133, 928323, 928612, 928724, 928839, 929897, 930038, 930185, 930541, 930638, 931128, 931252, 931348, 931738, 931797, 931816, 931826, 931827, 931993, 932052, 932174, 932302, 932338, 932579, 932618, 932628, 933072, 933892, 934038, 934629, 935260, 935808, 936115, 937040, 940300, 940781, 941828, 942211, 945423, 951494, 959173, 961103, 962323, 962909]\n",
      "1.58972693834\n",
      "train [70172, 72580, 101160, 117899, 119489, 120391, 126249, 127912, 136841, 136924, 140484, 140874, 141509, 142310, 142801, 143290, 153611, 159922, 188854, 194587, 196454, 201229, 201678, 202012, 205452, 205519, 207419, 213101, 214679, 214760, 215874, 216168, 216533, 216932, 219117, 223038, 223100, 223625, 227429, 229711, 229939, 230469, 230688, 231553, 232062, 232163, 234051, 236659, 238636, 239784, 240358, 240820, 240842, 242368, 252375, 258945, 273641, 289809, 294828, 296826, 299890, 302793, 305942, 307383, 309733, 309789, 310042, 313971, 313979, 322730, 323367, 323574, 323667, 324857, 330457, 334121, 335776, 337906, 363173, 363176, 374900, 378826, 384828, 386160, 389485, 389766, 389838, 391444, 391674, 393902, 393944, 394309, 394462, 395648, 395838, 396396, 396809, 397643, 398461, 399797, 400130, 402030, 402064, 402628, 402850, 402989, 403208, 404217, 404777, 404788, 407267, 407450, 412711, 413608, 416401, 417036, 420258, 425672, 451312, 457613, 459294, 459876, 464879, 466112, 467554, 467677, 468104, 469420, 471653, 477699, 480066, 481743, 482579, 485283, 489549, 494481, 495110, 497576, 499948, 501199, 502121, 502254, 504335, 505070, 507605, 515070, 527970, 539456, 540144, 540843, 544850, 548672, 556134, 560345, 561131, 561132, 563550, 564687, 564718, 565163, 567487, 568317, 570523, 570986, 572816, 576017, 577449, 579255, 579322, 583881, 584190, 586514, 587289, 588587, 590057, 591192, 591683, 595060, 598980, 602895, 604456, 643479, 645098, 645861, 645865, 646211, 651144, 652081, 652811, 653886, 655450, 655648, 657594, 658139, 658864, 659723, 660307, 660681, 662990, 662995, 663792, 664084, 664243, 664690, 664812, 664852, 665366, 665416, 665462, 669985, 670233, 670462, 670685, 671113, 671476, 673157, 674020, 674343, 675743, 676436, 676971, 677314, 680306, 681239, 681975, 686169, 700510, 703037, 706615, 708281, 708990, 710081, 713487, 720522, 722345, 727555, 732009, 733791, 736020, 737261, 738798, 741971, 742536, 743267, 747266, 747726, 751160, 754501, 755579, 756156, 758682, 761166, 764903, 790168, 802542, 804992, 807950, 808022, 809061, 809662, 811452, 811604, 815779, 820776, 822426, 823407, 823985, 824083, 824915, 826693, 826899, 827174, 827224, 827570, 829063, 831264, 831794, 831874, 832781, 834440, 837851, 838380, 838649, 838716, 839236, 840014, 842112, 842122, 842899, 842929, 843094, 843135, 843412, 843554, 843603, 844249, 844890, 845331, 845370, 845397, 845576, 845828, 846132, 850658, 858546, 865799, 879446, 885960, 887706, 887766, 898039, 898595, 898669, 898941, 902988, 903010, 903333, 904431, 904447, 905174, 905201, 905730, 905753, 906497, 906600, 906939, 907053, 907268, 907598, 908449, 908708, 909012, 909087, 909359, 909395, 909452, 910130, 910413, 910598, 910796, 910964, 911534, 911984, 912215, 913872, 914156, 914729, 914787, 915490, 915682, 916993, 917291, 918074, 919141, 919614, 921872, 922837, 923161, 923341, 924468, 925282, 925677, 925745, 929020, 930149, 930284, 932496, 932579, 933072, 934370, 935189, 940670, 955644, 955691, 961931]\n",
      "1.43680568044\n",
      "train [0, 9301, 9420, 10080, 37242, 50000, 55804, 56673, 59300, 59566, 62387, 63696, 64704, 68809, 71322, 71679, 74256, 77974, 96936, 100155, 103390, 109411, 117534, 117899, 126623, 128377, 129442, 134306, 136841, 141002, 146353, 148539, 158406, 167829, 168240, 169552, 170144, 174847, 205521, 214824, 216932, 218400, 220465, 223625, 224780, 225274, 226556, 228276, 229291, 229900, 230667, 232062, 232629, 236534, 238477, 242797, 245132, 248249, 263045, 283533, 284012, 286280, 288709, 290340, 291234, 292121, 296404, 303893, 304828, 306213, 306835, 307289, 307679, 311716, 311791, 311791, 311791, 311825, 312999, 313971, 314249, 319138, 323936, 324145, 324822, 325386, 326800, 328380, 328406, 329140, 334585, 334611, 338669, 343079, 363660, 363972, 371168, 376345, 379864, 381551, 382770, 383227, 384828, 385500, 386021, 386721, 391584, 391648, 393788, 395060, 395838, 405484, 406834, 407697, 414550, 416277, 420017, 445045, 447056, 449398, 454780, 457502, 459546, 466076, 466824, 467378, 468104, 469420, 471972, 472537, 474058, 474629, 481857, 486720, 489037, 490197, 493379, 493532, 493858, 496418, 500610, 502087, 504468, 507209, 511613, 513314, 523069, 527970, 532302, 534883, 535981, 536415, 540495, 542569, 554611, 555805, 560300, 562723, 564822, 568539, 569042, 570549, 571641, 575267, 575941, 576446, 576825, 578162, 578505, 584190, 586042, 587417, 588316, 589723, 592874, 593994, 598207, 606050, 626415, 631255, 632557, 634743, 636063, 636599, 636644, 637929, 637975, 644874, 645525, 646609, 646943, 648471, 648830, 650516, 654567, 655982, 663327, 663457, 669483, 670400, 674020, 681975, 686169, 700404, 706435, 713487, 727027, 728175, 734344, 734520, 734716, 735133, 736618, 738635, 738798, 741971, 742893, 743578, 743732, 743963, 744852, 746712, 749594, 757006, 758193, 759109, 761253, 763147, 763769, 764903, 770070, 778001, 793826, 794425, 802057, 802829, 802831, 807836, 816171, 818557, 819034, 819598, 820370, 820832, 821080, 821240, 822838, 823407, 824083, 830542, 831874, 832043, 832288, 832380, 832395, 834404, 834717, 834898, 834909, 835189, 835362, 835450, 835818, 835912, 836154, 837851, 837938, 838032, 838402, 838821, 839348, 840628, 841100, 841332, 842120, 842208, 843038, 843299, 843445, 843450, 843538, 844671, 844808, 845387, 845523, 845688, 847370, 847607, 849609, 850270, 851740, 857435, 875815, 886419, 892332, 895697, 896868, 898885, 899655, 905063, 906939, 907339, 907722, 907832, 907875, 909535, 909902, 910400, 910796, 910872, 910909, 910964, 911163, 911183, 911969, 912381, 914117, 914172, 914771, 914848, 915318, 915490, 915800, 917464, 918074, 918299, 918444, 918451, 919496, 922260, 923099, 923438, 924870, 925006, 925739, 928724, 929328, 929897, 930038, 930537, 931252, 932541, 932579, 932618, 933072, 934038, 938786, 939281, 940300, 942064, 945125, 952569, 956199, 960464, 961103, 962323, 962909, 963934]\n",
      "1.97224192587\n",
      "train [15236, 42282, 50234, 71583, 72170, 72451, 72480, 109755, 119491, 133486, 136841, 141303, 153738, 154373, 156578, 161161, 164803, 203976, 204876, 206842, 207608, 208634, 210535, 223589, 224782, 231303, 232575, 234080, 234876, 241631, 246398, 248644, 250887, 257205, 283446, 297835, 303808, 303983, 309536, 314374, 317899, 317993, 318498, 319804, 327271, 328109, 328189, 328485, 329062, 334121, 343067, 372743, 380295, 380574, 389067, 389273, 392728, 394113, 395016, 402638, 404264, 411573, 417067, 452235, 455424, 457178, 471208, 481421, 487695, 488483, 493786, 496627, 499080, 499208, 500670, 501199, 503974, 510507, 512690, 513988, 514074, 516331, 516452, 554759, 557091, 557474, 557592, 560414, 560715, 561791, 562018, 565101, 567740, 569917, 571047, 572095, 574682, 577163, 578154, 578188, 582615, 583180, 588269, 590057, 627789, 627904, 628224, 628316, 629352, 630059, 630316, 632557, 632934, 633054, 635932, 640488, 643971, 644826, 645386, 648830, 651989, 656165, 660941, 661790, 662324, 666991, 670379, 675296, 688462, 706762, 717396, 724967, 731657, 732563, 734249, 736618, 738983, 751263, 752874, 764969, 775026, 790168, 791696, 794013, 803871, 806022, 814613, 816033, 819068, 819952, 821384, 823142, 823422, 826606, 829317, 829344, 830258, 830773, 831467, 831957, 832476, 832656, 832808, 833188, 833468, 833562, 833882, 834029, 834183, 834234, 834998, 835786, 836130, 836435, 836582, 836795, 836803, 837354, 837444, 838058, 838108, 838318, 840606, 840906, 841148, 841285, 841376, 842879, 843329, 843357, 843368, 843403, 843881, 844275, 844406, 844563, 844624, 844690, 844726, 844779, 844935, 844969, 845320, 845411, 845463, 845481, 845532, 845568, 845828, 845842, 845884, 845971, 845983, 846248, 846304, 846316, 846491, 846521, 846563, 846580, 846611, 846614, 846656, 846675, 847358, 847810, 848979, 849819, 850774, 853060, 856105, 859358, 859841, 860047, 866422, 872605, 882371, 883168, 885701, 889391, 889405, 893110, 896114, 901785, 902770, 904986, 906670, 906964, 907300, 907949, 908389, 908549, 909062, 909086, 909325, 909368, 909482, 909527, 909608, 909850, 910188, 910385, 910657, 911784, 912381, 912461, 912481, 912587, 912713, 912749, 912807, 912818, 912945, 913029, 913356, 914279, 914338, 914725, 914951, 916673, 916744, 917474, 919270, 919729, 921242, 922862, 923183, 925117, 925282, 925754, 925805, 925824, 928283, 930565, 930957, 931326, 931937, 932158, 932205, 932401, 932579, 934128, 939578]\n"
     ]
    },
    {
     "name": "stderr",
     "output_type": "stream",
     "text": [
      "Values less than or equal to 0 in data. Throwing out 0 or negative values\n",
      "Calculating best minimal value for power law fit\n",
      "Values less than or equal to 0 in data. Throwing out 0 or negative values\n",
      "Calculating best minimal value for power law fit\n",
      "Values less than or equal to 0 in data. Throwing out 0 or negative values\n",
      "Calculating best minimal value for power law fit\n",
      "Values less than or equal to 0 in data. Throwing out 0 or negative values\n",
      "Calculating best minimal value for power law fit\n",
      "Values less than or equal to 0 in data. Throwing out 0 or negative values\n",
      "Calculating best minimal value for power law fit\n"
     ]
    }
   ],
   "source": [
    "klistfile = \"/home/bidisha/2017-hashtag-code/Data/hashtags/chain/\"\n",
    "(dictHahstag,maxts,mints) = timestamp(hashtaglist)\n",
    "outfile = \"/home/bidisha/2017-hashtag-code/Data/hashtags/output/\"\n",
    "print mints, maxts\n",
    "createInput(dictHahstag,mints, maxts, 1 , klistfile, outfile)"
   ]
  }
 ],
 "metadata": {
  "kernelspec": {
   "display_name": "Python 2",
   "language": "python",
   "name": "python2"
  },
  "language_info": {
   "codemirror_mode": {
    "name": "ipython",
    "version": 2
   },
   "file_extension": ".py",
   "mimetype": "text/x-python",
   "name": "python",
   "nbconvert_exporter": "python",
   "pygments_lexer": "ipython2",
   "version": "2.7.12"
  }
 },
 "nbformat": 4,
 "nbformat_minor": 0
}
